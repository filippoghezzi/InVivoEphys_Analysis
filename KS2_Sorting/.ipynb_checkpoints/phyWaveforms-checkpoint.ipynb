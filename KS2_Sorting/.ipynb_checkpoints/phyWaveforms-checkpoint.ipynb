{
 "cells": [
  {
   "cell_type": "code",
   "execution_count": 1,
   "metadata": {},
   "outputs": [],
   "source": [
    "import sys\n",
    "import numpy as np\n",
    "import pandas as pd\n",
    "import matplotlib.pyplot as plt\n",
    "from phylib.io.model import load_model\n",
    "from phylib.utils.color import selected_cluster_color"
   ]
  },
  {
   "cell_type": "code",
   "execution_count": 2,
   "metadata": {},
   "outputs": [],
   "source": [
    "def extractClusterWaveforms(params, clusterID, nSampleWaveforms, plotting):\n",
    "# Modified from phy customization \"Extracting waveforms\" function\n",
    "\n",
    "    # First, we load the TemplateModel.\n",
    "    model = load_model(params)  # first argument: path to params.py\n",
    "    \n",
    "    model.n_samples_waveforms = nSampleWaveforms\n",
    "\n",
    "    # We obtain the cluster id from the command-line arguments.\n",
    "    cluster_id = int(clusterID)  # second argument: cluster index\n",
    "\n",
    "    # We get the waveforms of the cluster.\n",
    "    waveforms = model.get_cluster_spike_waveforms(cluster_id)\n",
    "    n_spikes, n_samples, n_channels_loc = waveforms.shape\n",
    "\n",
    "    # We get the channel ids where the waveforms are located.\n",
    "    channel_ids = model.get_cluster_channels(cluster_id)\n",
    "    \n",
    "    if plotting:\n",
    "        # We plot the waveforms on the first four channels.\n",
    "        f, axes = plt.subplots(1, min(4, n_channels_loc), sharey=True)\n",
    "        for ch in range(min(4, n_channels_loc)):\n",
    "            axes[ch].plot(waveforms[::100, :, ch].T, c=selected_cluster_color(0, .05))\n",
    "            axes[ch].set_title(\"channel %d\" % channel_ids[ch])\n",
    "        plt.show()\n",
    "    \n",
    "    return waveforms, channel_ids"
   ]
  },
  {
   "cell_type": "code",
   "execution_count": 3,
   "metadata": {},
   "outputs": [],
   "source": [
    "def getWaveforms(recID, plotting, nSampleWaveforms = 82, nBestChannels = 3):\n",
    "    \n",
    "    paramsFilename=recID+\"params.py\"\n",
    "    clusterFilename=recID+\"cluster_group.tsv\"\n",
    "\n",
    "    clusterGroups = pd.read_csv(clusterFilename, sep='\\t')\n",
    "    clusterIDs=list(clusterGroups[(clusterGroups[\"group\"]==\"good\")][\"cluster_id\"])\n",
    "\n",
    "    waveforms = np.empty([nSampleWaveforms, nBestChannels, len(clusterIDs)])\n",
    "    waveforms_ids = np.empty([nBestChannels, len(clusterIDs)])\n",
    "    for i, cid in enumerate (clusterIDs):\n",
    "        tmpWF, channel_ids = extractClusterWaveforms(paramsFilename, cid, nSampleWaveforms, plotting)\n",
    "        waveforms[: , :, i] = np.mean(tmpWF[:, :, :nBestChannels], axis=0)\n",
    "        waveforms_ids[:, i] = channel_ids[:nBestChannels]\n",
    "        print(\"Finished extracting cluster \"+str(cid))\n",
    "        #Save all waveform for each su cluster \n",
    "#         if cid==86:\n",
    "#             np.save(recID+\"waveforms\\\\\"+str(cid)+\".npy\", tmpWF) ## Uncomment to save; large amount of disk space required\n",
    "#             print(\"Saved all waveforms of \"+str(cid))\n",
    "    # Save average waveform for each su cluster    \n",
    "    np.save(recID+\"su_Waveforms.npy\", waveforms)\n",
    "    np.save(recID+\"su_Waveforms_ids.npy\", waveforms_ids)"
   ]
  },
  {
   "cell_type": "code",
   "execution_count": 4,
   "metadata": {},
   "outputs": [
    {
     "name": "stdout",
     "output_type": "stream",
     "text": [
      "Start extracting SC7\n",
      "Finished extracting cluster 3\n",
      "Finished extracting cluster 24\n",
      "Finished extracting cluster 31\n",
      "Finished extracting cluster 33\n",
      "Finished extracting cluster 35\n",
      "Finished extracting cluster 57\n",
      "Finished extracting cluster 62\n",
      "Finished extracting cluster 64\n",
      "Finished extracting cluster 65\n",
      "Finished extracting cluster 67\n",
      "Finished extracting cluster 72\n",
      "Finished extracting cluster 77\n",
      "Finished extracting cluster 78\n",
      "Finished extracting cluster 79\n",
      "Finished extracting cluster 83\n",
      "Finished extracting cluster 88\n",
      "Finished extracting cluster 104\n",
      "Finished extracting cluster 105\n",
      "Finished extracting cluster 111\n",
      "Saved waveforms\n"
     ]
    }
   ],
   "source": [
    "tab = pd.read_csv(\"C:\\\\Users\\Butt Lab\\Documents\\GitHub\\InVivoEphys_Analysis\\V1_InVivo_SST;Ai32.csv\")\n",
    "mainFolder='D:\\\\InVivo_SST'\n",
    "\n",
    "recIDs=np.unique(tab.MouseID)\n",
    "recIDs=['SC7']\n",
    "\n",
    "for rec in recIDs:\n",
    "    fileDir = mainFolder+\"\\\\\"+rec+\"\\\\\"\n",
    "    print('Start extracting '+rec)\n",
    "    getWaveforms(fileDir, 0, 200)\n",
    "    print(\"Saved waveforms\")"
   ]
  },
  {
   "cell_type": "code",
   "execution_count": null,
   "metadata": {},
   "outputs": [],
   "source": []
  }
 ],
 "metadata": {
  "kernelspec": {
   "display_name": "Python (phy2)",
   "language": "python",
   "name": "phy2"
  },
  "language_info": {
   "codemirror_mode": {
    "name": "ipython",
    "version": 3
   },
   "file_extension": ".py",
   "mimetype": "text/x-python",
   "name": "python",
   "nbconvert_exporter": "python",
   "pygments_lexer": "ipython3",
   "version": "3.7.6"
  }
 },
 "nbformat": 4,
 "nbformat_minor": 4
}
